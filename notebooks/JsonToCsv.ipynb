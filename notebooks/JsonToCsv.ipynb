{
 "cells": [
  {
   "cell_type": "code",
   "execution_count": 1,
   "metadata": {},
   "outputs": [],
   "source": [
    "import ujson\n",
    "import csv\n",
    "import os\n",
    "import shutil\n",
    "import pathlib as pl"
   ]
  },
  {
   "cell_type": "code",
   "execution_count": 2,
   "metadata": {},
   "outputs": [],
   "source": [
    "### Settings\n",
    "HOME_PATH = \"..\\data\\Acelerometro\"              # Location of the working directory\n",
    "DATASET_PATH = \"..\\data\\Acelerometro\"   # Upload your JSON samples to this directory\n",
    "OUT_PATH = \"..\\data\\Acelerometro\\zip\"           # Where output files go (will be deleted and recreated)\n",
    "OUT_ZIP = \"data\\Acelerometro\\zip\\out.zip\"        # Where to store the zipped output files"
   ]
  },
  {
   "cell_type": "code",
   "execution_count": 3,
   "metadata": {},
   "outputs": [],
   "source": [
    "### Delete output directory (if it exists) and recreate it\n",
    "if os.path.exists(OUT_PATH):\n",
    "  shutil.rmtree(OUT_PATH)\n",
    "os.makedirs(OUT_PATH)"
   ]
  },
  {
   "cell_type": "code",
   "execution_count": 4,
   "metadata": {},
   "outputs": [],
   "source": [
    "from pathlib import Path\n",
    "\n",
    "# specify the directory you want to list files from\n",
    "data_directory = Path(DATASET_PATH)\n",
    "\n",
    "# use the glob method to list all json files\n",
    "json_files = list(data_directory.glob('*.json'))\n"
   ]
  },
  {
   "cell_type": "code",
   "execution_count": 5,
   "metadata": {},
   "outputs": [],
   "source": [
    "\n",
    "### Read JSON files\n",
    "\n",
    "# Go through each file in the input directory\n",
    "for filename in json_files:\n",
    "\n",
    "  # Read the JSON file\n",
    "  header = [\"timestamp\"]\n",
    "  with open(filename, 'r') as json_file:\n",
    "\n",
    "    # Load JSON\n",
    "    data = ujson.load(json_file)\n",
    "\n",
    "    # Parse the sample rate, header, and data\n",
    "    sample_rate = data['payload']['interval_ms']\n",
    "    for heading in data['payload']['sensors']:\n",
    "      header.append(heading['name'])\n",
    "    values = data['payload']['values']\n",
    "    header.append('label')\n",
    "    label = filename.name.split('.')[0]\n",
    "\n",
    "    # Write header to CSV file\n",
    "    out_filepath = os.path.splitext(filename)[0] + \".csv\"\n",
    "    with open(out_filepath, 'w') as csv_file:\n",
    "      writer = csv.writer(csv_file)\n",
    "      writer.writerow(header)\n",
    "\n",
    "      # Prepend timestamp and write data rows to CSV file\n",
    "      for t, line in enumerate(values):\n",
    "        timestamp = t * sample_rate\n",
    "        line.insert(0, timestamp)\n",
    "        line.insert(4, label)\n",
    "        writer.writerow(line)"
   ]
  }
 ],
 "metadata": {
  "kernelspec": {
   "display_name": "Python 3",
   "language": "python",
   "name": "python3"
  },
  "language_info": {
   "codemirror_mode": {
    "name": "ipython",
    "version": 3
   },
   "file_extension": ".py",
   "mimetype": "text/x-python",
   "name": "python",
   "nbconvert_exporter": "python",
   "pygments_lexer": "ipython3",
   "version": "3.10.4"
  }
 },
 "nbformat": 4,
 "nbformat_minor": 2
}
