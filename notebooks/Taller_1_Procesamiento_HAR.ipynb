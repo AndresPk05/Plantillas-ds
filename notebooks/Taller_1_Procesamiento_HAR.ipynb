{
 "cells": [
  {
   "cell_type": "code",
   "execution_count": 40,
   "metadata": {},
   "outputs": [],
   "source": [
    "#Cargar librerias\n",
    "import pathlib as pl\n",
    "import pandas as pd\n",
    "import numpy as np\n",
    "import matplotlib.pyplot as plt\n",
    "import tensorflow as tf\n",
    "from tensorflow import keras\n",
    "from sklearn.preprocessing import LabelEncoder\n",
    "from sklearn.model_selection import train_test_split\n",
    "from sklearn.metrics import confusion_matrix, ConfusionMatrixDisplay, classification_report, accuracy_score\n",
    "from sklearn.preprocessing import StandardScaler"
   ]
  },
  {
   "cell_type": "code",
   "execution_count": 8,
   "metadata": {},
   "outputs": [
    {
     "data": {
      "text/html": [
       "<div>\n",
       "<style scoped>\n",
       "    .dataframe tbody tr th:only-of-type {\n",
       "        vertical-align: middle;\n",
       "    }\n",
       "\n",
       "    .dataframe tbody tr th {\n",
       "        vertical-align: top;\n",
       "    }\n",
       "\n",
       "    .dataframe thead th {\n",
       "        text-align: right;\n",
       "    }\n",
       "</style>\n",
       "<table border=\"1\" class=\"dataframe\">\n",
       "  <thead>\n",
       "    <tr style=\"text-align: right;\">\n",
       "      <th></th>\n",
       "      <th>timestamp</th>\n",
       "      <th>accX</th>\n",
       "      <th>accY</th>\n",
       "      <th>accZ</th>\n",
       "      <th>label</th>\n",
       "    </tr>\n",
       "  </thead>\n",
       "  <tbody>\n",
       "    <tr>\n",
       "      <th>0</th>\n",
       "      <td>0</td>\n",
       "      <td>-0.4</td>\n",
       "      <td>2.2</td>\n",
       "      <td>8.4</td>\n",
       "      <td>bajar escaleras</td>\n",
       "    </tr>\n",
       "    <tr>\n",
       "      <th>1</th>\n",
       "      <td>16</td>\n",
       "      <td>0.0</td>\n",
       "      <td>0.6</td>\n",
       "      <td>9.6</td>\n",
       "      <td>bajar escaleras</td>\n",
       "    </tr>\n",
       "    <tr>\n",
       "      <th>2</th>\n",
       "      <td>32</td>\n",
       "      <td>-1.0</td>\n",
       "      <td>1.6</td>\n",
       "      <td>10.1</td>\n",
       "      <td>bajar escaleras</td>\n",
       "    </tr>\n",
       "    <tr>\n",
       "      <th>3</th>\n",
       "      <td>48</td>\n",
       "      <td>-1.0</td>\n",
       "      <td>1.9</td>\n",
       "      <td>9.9</td>\n",
       "      <td>bajar escaleras</td>\n",
       "    </tr>\n",
       "    <tr>\n",
       "      <th>4</th>\n",
       "      <td>64</td>\n",
       "      <td>-1.3</td>\n",
       "      <td>2.2</td>\n",
       "      <td>9.3</td>\n",
       "      <td>bajar escaleras</td>\n",
       "    </tr>\n",
       "  </tbody>\n",
       "</table>\n",
       "</div>"
      ],
      "text/plain": [
       "   timestamp  accX  accY  accZ            label\n",
       "0          0  -0.4   2.2   8.4  bajar escaleras\n",
       "1         16   0.0   0.6   9.6  bajar escaleras\n",
       "2         32  -1.0   1.6  10.1  bajar escaleras\n",
       "3         48  -1.0   1.9   9.9  bajar escaleras\n",
       "4         64  -1.3   2.2   9.3  bajar escaleras"
      ]
     },
     "execution_count": 8,
     "metadata": {},
     "output_type": "execute_result"
    }
   ],
   "source": [
    "DATASET_PATH = \"..\\data\\Acelerometro\"\n",
    "dataset_directory = pl.Path(DATASET_PATH)\n",
    "dataset_files = dataset_directory.glob(\"*.csv\")\n",
    "dfs = []\n",
    "for file in dataset_files:\n",
    "    dfs.append(pd.read_csv(file))\n",
    "df = pd.concat(dfs, ignore_index=True)\n",
    "df.head()"
   ]
  },
  {
   "cell_type": "code",
   "execution_count": 9,
   "metadata": {},
   "outputs": [
    {
     "data": {
      "text/plain": [
       "(6250, 5)"
      ]
     },
     "execution_count": 9,
     "metadata": {},
     "output_type": "execute_result"
    }
   ],
   "source": [
    "df.shape"
   ]
  },
  {
   "cell_type": "code",
   "execution_count": 59,
   "metadata": {},
   "outputs": [],
   "source": [
    "categories = LabelEncoder().fit_transform(df['label'].unique())\n",
    "df['label'] = LabelEncoder().fit_transform(df['label'])"
   ]
  },
  {
   "cell_type": "code",
   "execution_count": 60,
   "metadata": {},
   "outputs": [],
   "source": [
    "X = df[['accX', 'accY', 'accZ']]\n",
    "Y = df['label']"
   ]
  },
  {
   "cell_type": "code",
   "execution_count": 61,
   "metadata": {},
   "outputs": [],
   "source": [
    "scaler = StandardScaler()\n",
    "X = scaler.fit_transform(X)"
   ]
  },
  {
   "cell_type": "code",
   "execution_count": 62,
   "metadata": {},
   "outputs": [
    {
     "name": "stdout",
     "output_type": "stream",
     "text": [
      "[[0. 0. 1. 0. 0.]\n",
      " [0. 0. 0. 0. 1.]\n",
      " [0. 1. 0. 0. 0.]\n",
      " ...\n",
      " [0. 1. 0. 0. 0.]\n",
      " [0. 0. 1. 0. 0.]\n",
      " [0. 0. 1. 0. 0.]]\n",
      "[[0. 0. 1. 0. 0.]\n",
      " [0. 0. 0. 0. 1.]\n",
      " [0. 0. 1. 0. 0.]\n",
      " ...\n",
      " [0. 1. 0. 0. 0.]\n",
      " [0. 0. 0. 0. 1.]\n",
      " [1. 0. 0. 0. 0.]]\n"
     ]
    }
   ],
   "source": [
    "X_train,X_test, y_train,y_test = train_test_split(X,Y,test_size=0.3,random_state=0)\n",
    "y_train= keras.utils.to_categorical(y_train)\n",
    "y_test= keras.utils.to_categorical(y_test)\n",
    "print(y_train)\n",
    "print(y_test)"
   ]
  },
  {
   "cell_type": "code",
   "execution_count": 74,
   "metadata": {},
   "outputs": [],
   "source": [
    "model = tf.keras.models.Sequential([\n",
    "    tf.keras.layers.Dense(128, activation='relu'),  # Capa oculta con 128 neuronas y activación ReLU\n",
    "    tf.keras.layers.Dense(64, activation='relu'),   # Capa oculta con 64 neuronas y activación ReLU\n",
    "    tf.keras.layers.Dense(5, activation='softmax')  # Capa de salida con 10 neuronas (una por cada clase) y activación Softmax\n",
    "])\n",
    "\n",
    "# Compilar el modelo\n",
    "model.compile(optimizer='adam',\n",
    "              loss='categorical_crossentropy',\n",
    "              metrics=['accuracy'])"
   ]
  },
  {
   "cell_type": "code",
   "execution_count": 75,
   "metadata": {},
   "outputs": [
    {
     "name": "stdout",
     "output_type": "stream",
     "text": [
      "Epoch 1/10\n",
      "137/137 [==============================] - 3s 10ms/step - loss: 1.1685 - accuracy: 0.5673 - val_loss: 0.9003 - val_accuracy: 0.6651\n",
      "Epoch 2/10\n",
      "137/137 [==============================] - 1s 5ms/step - loss: 0.8220 - accuracy: 0.7102 - val_loss: 0.7540 - val_accuracy: 0.7291\n",
      "Epoch 3/10\n",
      "137/137 [==============================] - 1s 4ms/step - loss: 0.7406 - accuracy: 0.7301 - val_loss: 0.7063 - val_accuracy: 0.7435\n",
      "Epoch 4/10\n",
      "137/137 [==============================] - 1s 4ms/step - loss: 0.7038 - accuracy: 0.7449 - val_loss: 0.6844 - val_accuracy: 0.7472\n",
      "Epoch 5/10\n",
      "137/137 [==============================] - 1s 4ms/step - loss: 0.6869 - accuracy: 0.7520 - val_loss: 0.6735 - val_accuracy: 0.7493\n",
      "Epoch 6/10\n",
      "137/137 [==============================] - 1s 4ms/step - loss: 0.6731 - accuracy: 0.7513 - val_loss: 0.6676 - val_accuracy: 0.7531\n",
      "Epoch 7/10\n",
      "137/137 [==============================] - 1s 4ms/step - loss: 0.6631 - accuracy: 0.7499 - val_loss: 0.6533 - val_accuracy: 0.7589\n",
      "Epoch 8/10\n",
      "137/137 [==============================] - 0s 4ms/step - loss: 0.6557 - accuracy: 0.7563 - val_loss: 0.6518 - val_accuracy: 0.7552\n",
      "Epoch 9/10\n",
      "137/137 [==============================] - 0s 4ms/step - loss: 0.6529 - accuracy: 0.7559 - val_loss: 0.6515 - val_accuracy: 0.7504\n",
      "Epoch 10/10\n",
      "137/137 [==============================] - 1s 4ms/step - loss: 0.6466 - accuracy: 0.7595 - val_loss: 0.6464 - val_accuracy: 0.7520\n",
      "59/59 [==============================] - 0s 3ms/step - loss: 0.6464 - accuracy: 0.7520\n",
      "Precisión en el conjunto de prueba: 0.7519999742507935\n"
     ]
    }
   ],
   "source": [
    "# Entrenar el modelo\n",
    "model.fit(X_train, y_train, epochs=10, validation_data=(X_test, y_test))\n",
    "\n",
    "# Evaluar el modelo\n",
    "test_loss, test_acc = model.evaluate(X_test, y_test)\n",
    "print('Precisión en el conjunto de prueba:', test_acc)"
   ]
  },
  {
   "cell_type": "code",
   "execution_count": 76,
   "metadata": {},
   "outputs": [
    {
     "name": "stdout",
     "output_type": "stream",
     "text": [
      "59/59 [==============================] - 0s 3ms/step\n",
      "[[5.7227551e-03 1.2401388e-07 9.9175793e-01 1.2963467e-07 2.5190632e-03]\n",
      " [1.3879615e-04 1.5452837e-11 1.3972135e-01 2.7210815e-05 8.6011261e-01]\n",
      " [1.0035478e-03 2.4296247e-04 2.6646027e-01 7.8115545e-02 6.5417761e-01]\n",
      " ...\n",
      " [3.8583983e-02 9.1277951e-01 1.4290867e-02 1.9283872e-02 1.5061809e-02]\n",
      " [8.8357610e-01 1.5126305e-02 5.3124744e-02 4.6139245e-04 4.7711488e-02]\n",
      " [9.7113907e-01 1.6526075e-03 2.0937312e-02 1.0133851e-05 6.2608137e-03]]\n"
     ]
    }
   ],
   "source": [
    "y_pred_rf = model.predict(X_test)"
   ]
  },
  {
   "cell_type": "code",
   "execution_count": 78,
   "metadata": {},
   "outputs": [
    {
     "name": "stdout",
     "output_type": "stream",
     "text": [
      "              precision    recall  f1-score   support\n",
      "\n",
      "           0       0.72      0.80      0.76       372\n",
      "           1       0.74      0.79      0.76       373\n",
      "           2       0.87      0.68      0.76       382\n",
      "           3       0.75      0.83      0.79       380\n",
      "           4       0.70      0.65      0.68       368\n",
      "\n",
      "    accuracy                           0.75      1875\n",
      "   macro avg       0.76      0.75      0.75      1875\n",
      "weighted avg       0.76      0.75      0.75      1875\n",
      "\n"
     ]
    }
   ],
   "source": [
    "y_predreport=np.argmax(y_pred_rf, axis=1)\n",
    "y_tes=np.argmax(y_test, axis=1)\n",
    "print(classification_report(y_tes, y_predreport))"
   ]
  },
  {
   "cell_type": "code",
   "execution_count": 79,
   "metadata": {},
   "outputs": [
    {
     "data": {
      "image/png": "[encoded data removed]",
      "text/plain": [
       "<Figure size 432x288 with 2 Axes>"
      ]
     },
     "metadata": {
      "needs_background": "light"
     },
     "output_type": "display_data"
    }
   ],
   "source": [
    "cm = confusion_matrix(y_tes, y_predreport)\n",
    "disp = ConfusionMatrixDisplay(confusion_matrix=cm)\n",
    "disp.plot()\n",
    "plt.show()"
   ]
  }
 ],
 "metadata": {
  "kernelspec": {
   "display_name": "Python 3",
   "language": "python",
   "name": "python3"
  },
  "language_info": {
   "codemirror_mode": {
    "name": "ipython",
    "version": 3
   },
   "file_extension": ".py",
   "mimetype": "text/x-python",
   "name": "python",
   "nbconvert_exporter": "python",
   "pygments_lexer": "ipython3",
   "version": "3.10.4"
  }
 },
 "nbformat": 4,
 "nbformat_minor": 2
}
